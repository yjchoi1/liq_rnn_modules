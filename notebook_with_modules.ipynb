{
 "cells": [
  {
   "cell_type": "code",
   "execution_count": null,
   "metadata": {
    "collapsed": true
   },
   "outputs": [],
   "source": [
    "import numpy as np\n",
    "from keras.models import Sequential, load_model\n",
    "from keras.layers import Dense, Dropout, SimpleRNN, LSTM, GRU, Flatten\n",
    "from keras import optimizers\n",
    "from keras.callbacks import EarlyStopping\n",
    "import tensorflow as tf\n",
    "\n",
    "import cssData\n",
    "import prepareData\n",
    "from matplotlib import pyplot as plt"
   ]
  },
  {
   "cell_type": "code",
   "execution_count": null,
   "outputs": [],
   "source": [
    "# %% import data ad dataframe\n",
    "\n",
    "data_dir = \"/content/drive/MyDrive/2021-LSTM-Liquefaction/Data/liq_data\"  # get the data folder path\n",
    "expNumList1 = cssData.expNumList()  # get expNumList that you want to consider\n",
    "Drs = cssData.relativeDensity()  # get relative density (Dr) data for each trial\n",
    "\n",
    "# get dataframe for all trials\n",
    "df_all = cssData.to_dataframe(expNumList=expNumList1, data_dir=data_dir, Drs=Drs)\n",
    "\n",
    "# # look into data\n",
    "# cssData.LookIntoData(timeIndex=1000)\n",
    "\n",
    "# # plot trial\n",
    "# cssData.plotTrial(expIndex=2, trialIndex=34)"
   ],
   "metadata": {
    "collapsed": false,
    "pycharm": {
     "name": "#%%\n"
    }
   }
  },
  {
   "cell_type": "code",
   "execution_count": null,
   "outputs": [],
   "source": [
    "# %% reshape dataframe\n",
    "\n",
    "# see columns in the raw dataframe\n",
    "colNames = list(df_all[0][0].columns)\n",
    "\n",
    "# select columns and length and cut the dataframe to the form you what to get\n",
    "selectCols = ['Time [sec]', 'Shear Stress [kPa]', 'ru']\n",
    "time_steps = 8600\n",
    "df_cut = prepareData.cutDataFrame(time_steps=8600, cols=selectCols, dataframe=df_all)"
   ],
   "metadata": {
    "collapsed": false,
    "pycharm": {
     "name": "#%%\n"
    }
   }
  },
  {
   "cell_type": "code",
   "execution_count": null,
   "outputs": [],
   "source": [
    "# %% Train and test split\n",
    "\n",
    "# choose your exp and trial index to use.\n",
    "# for i in expIndex; for j in trialIndex, i and j iterate.\n",
    "# for example, expIndex=[0, 1], trialIndex=[[0,1], [0, 1, 3]],\n",
    "# the result indices are (0,0) (0, 1), (1, 0), (1, 1), (1, 3).\n",
    "expIndex_train = [0, 1]\n",
    "trialIndex_train = [[0, 1, 6, 7, 10, 11, 12, 13], [0, 2, 4, 5, 6]]\n",
    "expIndex_test = [0, 1]\n",
    "trialIndex_test = [[14, 15, 13], [7]]\n",
    "\n",
    "# The method `prepareData.data_array` also returns the index of (exp, trial).\n",
    "# This will be used to define the title of result plots.\n",
    "data_array_train, train_trial_index = prepareData.data_array(\n",
    "    expIndex=expIndex_train, trialIndex=trialIndex_train, df_cut=df_cut)\n",
    "data_array_test, test_trial_index = prepareData.data_array(\n",
    "    expIndex=expIndex_test, trialIndex=trialIndex_test, df_cut=df_cut)"
   ],
   "metadata": {
    "collapsed": false,
    "pycharm": {
     "name": "#%%\n"
    }
   }
  },
  {
   "cell_type": "code",
   "execution_count": null,
   "outputs": [],
   "source": [
    "# %% normalize the data (only selected cols)\n",
    "\n",
    "# The best practice is to normalize train & test separately to prevent data leak\n",
    "# The method `prepareData.normalize_cols` also returns the normalization factors.\n",
    "# These might be used to denormalize the data back to the original values.\n",
    "colsToConsider = [0, 1]  # 0: time steps, 1: stress, 2: ru\n",
    "data_array_train_normalized, normalizingFactors_train = prepareData.normalize_cols(\n",
    "    data_array=data_array_train, cols_to_normalize=colsToConsider)\n",
    "data_array_test_normalized, normalizingFactors_test = prepareData.normalize_cols(\n",
    "    data_array=data_array_test, cols_to_normalize=colsToConsider)"
   ],
   "metadata": {
    "collapsed": false,
    "pycharm": {
     "name": "#%%\n"
    }
   }
  },
  {
   "cell_type": "code",
   "execution_count": null,
   "outputs": [],
   "source": [
    "# %% set x and y\n",
    "\n",
    "# inputs\n",
    "features = [0, 1]  # 0: timestep, 1: stress\n",
    "target = [2]  # 2: ru\n",
    "\n",
    "# split x and y for train and test, from the data_array\n",
    "x_array_train = data_array_train_normalized[:, :, features]\n",
    "y_array_train = data_array_train_normalized[:, :, target]\n",
    "x_array_test = data_array_test_normalized[:, :, features]\n",
    "y_array_test = data_array_test_normalized[:, :, target]"
   ],
   "metadata": {
    "collapsed": false,
    "pycharm": {
     "name": "#%%\n"
    }
   }
  },
  {
   "cell_type": "code",
   "execution_count": null,
   "outputs": [],
   "source": [
    "# %% make data for time-series input for RNN layers (time window method)\n",
    "length = 400\n",
    "\n",
    "x_rnn_train, y_rnn_train, x_rnn_test, y_rnn_test = prepareData.windowDataset(\n",
    "    x_array_train, y_array_train, x_array_test, y_array_test, length, time_steps\n",
    ")"
   ],
   "metadata": {
    "collapsed": false,
    "pycharm": {
     "name": "#%%\n"
    }
   }
  },
  {
   "cell_type": "code",
   "execution_count": null,
   "outputs": [],
   "source": [
    "# %% shuffle\n",
    "\n",
    "shuffler = np.random.permutation(len(x_rnn_train))  # get indices for shuffling\n",
    "x_rnn_train_sf = x_rnn_train[shuffler]  # shuffle the dataset\n",
    "y_rnn_train_sf = y_rnn_train[shuffler]  # shuffle the dataset"
   ],
   "metadata": {
    "collapsed": false,
    "pycharm": {
     "name": "#%%\n"
    }
   }
  },
  {
   "cell_type": "code",
   "execution_count": null,
   "outputs": [],
   "source": [
    "# %% build a model\n",
    "\n",
    "# now build the RNN\n",
    "model = Sequential()\n",
    "# model.add(LSTM(32, input_shape=(data_mat_3d_final.shape[1],\n",
    "#           data_mat_3d_final.shape[2]), activation='tanh'))  # tanh\n",
    "model.add(LSTM(128, return_sequences=True, input_shape=(x_rnn_train.shape[1],\n",
    "                                                        x_rnn_train.shape[2]), activation='tanh'))  # tanh\n",
    "model.add(Dropout(0.1))\n",
    "model.add(LSTM(128, activation='tanh'))  # tanh\n",
    "model.add(Dropout(0.1))\n",
    "model.add(Dense(64, activation='tanh'))\n",
    "model.add(Dropout(0.1))\n",
    "model.add(Dense(16, activation='tanh'))\n",
    "# model.add(Dropout(0.1))\n",
    "model.add(Dense(1, activation='tanh'))\n",
    "\n",
    "# monitor validation progress\n",
    "early = EarlyStopping(monitor=\"val_loss\", mode=\"min\", patience=1000)\n",
    "callbacks_list = [early]\n",
    "\n",
    "# set optimizer\n",
    "opt = tf.optimizers.Adam(learning_rate=0.001)  # default learning rate=0.001\n",
    "\n",
    "#########################\n",
    "loss = ['mean_squared_error', 'mean_absolute_percentage_error', 'mean_absolute_error']\n",
    "metrics = ['mse','mape','mae']\n",
    "\n",
    "choose_loose = 0\n",
    "model.compile(loss=loss[choose_loose],\n",
    "              optimizer=opt,\n",
    "              metrics=metrics[choose_loose])\n",
    "#########################\n",
    "\n",
    "# Show a model summary table\n",
    "model.summary()"
   ],
   "metadata": {
    "collapsed": false,
    "pycharm": {
     "name": "#%%\n"
    }
   }
  },
  {
   "cell_type": "code",
   "execution_count": null,
   "outputs": [],
   "source": [
    "# %% train\n",
    "\n",
    "# train with batch\n",
    "history = model.fit(x_rnn_train_sf, y_rnn_train_sf,\n",
    "                    epochs=50, batch_size=32, verbose=2,\n",
    "                    validation_split=0.20,\n",
    "                    callbacks=callbacks_list,\n",
    "                    shuffle=True)"
   ],
   "metadata": {
    "collapsed": false,
    "pycharm": {
     "name": "#%%\n"
    }
   }
  },
  {
   "cell_type": "code",
   "execution_count": null,
   "outputs": [],
   "source": [
    "# plot model training history\n",
    "\n",
    "plt.figure()\n",
    "plt.plot(history.history['loss'], label='train')\n",
    "plt.plot(history.history['val_loss'], label='val')\n",
    "plt.legend()\n",
    "plt.xlabel(\"Epoch\")\n",
    "plt.ylabel(metrics[choose_loose])"
   ],
   "metadata": {
    "collapsed": false,
    "pycharm": {
     "name": "#%%\n"
    }
   }
  },
  {
   "cell_type": "code",
   "execution_count": null,
   "outputs": [],
   "source": [
    "# %% get predictions\n",
    "\n",
    "# Note that the model is trained with shuffled data, ...\n",
    "# while the prediction is done with unshuffled data.\n",
    "y_rnn_train_pred = model.predict(x_rnn_train)\n",
    "y_rnn_test_pred = model.predict(x_rnn_test)"
   ],
   "metadata": {
    "collapsed": false,
    "pycharm": {
     "name": "#%%\n"
    }
   }
  },
  {
   "cell_type": "code",
   "execution_count": null,
   "outputs": [],
   "source": [
    "# %% Plot input and output array\n",
    "\n",
    "nc = 3\n",
    "\n",
    "# plot data for train\n",
    "num_trials_train = len(x_array_train)  # total num of trials in train set\n",
    "nr = int(np.ceil(num_trials_train / nc))  # num of rows in subplot\n",
    "\n",
    "fig1, axs1 = plt.subplots(nrows=nr, ncols=nc, figsize=(nc * 5, nr * 3))\n",
    "axs_unroll = axs1.flatten()\n",
    "for i in range(num_trials_train):\n",
    "    axs_unroll[i].plot(x_array_train[i, :, :])\n",
    "    axs_unroll[i].plot(y_array_train[i, :, :])\n",
    "    axs_unroll[i].legend(selectCols, loc='best')\n",
    "    axs_unroll[i].set_xlabel(\"Data points\")\n",
    "    axs_unroll[i].set_ylabel(\"Normalized values\")\n",
    "    axs_unroll[i].set_title(f\"Experiment-{train_trial_index[i][0]}, Trial-{train_trial_index[i][1]}\")\n",
    "fig1.tight_layout()\n",
    "\n",
    "# plot data for test\n",
    "num_trials_test = len(x_array_test)  # total num of trials in test set\n",
    "nr = int(np.ceil(num_trials_test / nc))  # num of rows in subplot\n",
    "\n",
    "fig2, axs2 = plt.subplots(nrows=nr, ncols=nc, figsize=(nc * 5, nr * 3))\n",
    "axs_unroll = axs2.flatten()\n",
    "for i in range(num_trials_test):\n",
    "    axs_unroll[i].plot(x_array_test[i, :, :])\n",
    "    axs_unroll[i].plot(y_array_test[i, :, :])\n",
    "    axs_unroll[i].legend(selectCols, loc='best')\n",
    "    axs_unroll[i].set_xlabel(\"Data points\")\n",
    "    axs_unroll[i].set_ylabel(\"Values\")\n",
    "    axs_unroll[i].set_title(f\"Experiment-{test_trial_index[i][0]}, Trial-{test_trial_index[i][1]}\")\n",
    "fig1.tight_layout()"
   ],
   "metadata": {
    "collapsed": false,
    "pycharm": {
     "name": "#%%\n"
    }
   }
  },
  {
   "cell_type": "code",
   "execution_count": null,
   "outputs": [],
   "source": [
    "# %% Plot train result\n",
    "\n",
    "nc = 3  # num of columns in subplot\n",
    "\n",
    "# plot train result\n",
    "num_trials_train = len(x_array_train)  # total num of trials in train set\n",
    "nr = int(np.ceil(num_trials_train / nc))  # num of rows in subplot\n",
    "\n",
    "fig1, axs1 = plt.subplots(nrows=nr, ncols=nc, figsize=(nc * 5, nr * 3))\n",
    "axs_unroll = axs1.flatten()\n",
    "for i in range(num_trials_train):\n",
    "    axs_unroll[i].plot(x_array_train[i, :, 0],\n",
    "                       y_array_train[i, :, 0],\n",
    "                       c='goldenrod', label='train data')\n",
    "    axs_unroll[i].plot(x_array_train[i, length:time_steps, 0],\n",
    "                       y_rnn_train_pred[i * (time_steps - length):(i + 1) * (time_steps - length)],\n",
    "                       c='navy', label='train result')\n",
    "    axs_unroll[i].legend(loc='best')\n",
    "    axs_unroll[i].set_xlabel(\"time (sec)\")\n",
    "    axs_unroll[i].set_ylabel(\"ru\")\n",
    "    axs_unroll[i].set_title(f\"Experiment-{train_trial_index[i][0]}, Trial-{train_trial_index[i][1]}\")\n",
    "fig1.tight_layout()\n",
    "\n",
    "# plot test result\n",
    "num_trials_test = len(x_array_test)  # total num of trials in test set\n",
    "nr = int(np.ceil(num_trials_test / nc))  # num of rows in subplot\n",
    "\n",
    "fig2, axs2 = plt.subplots(nrows=nr, ncols=nc, figsize=(nc * 5, nr * 3))\n",
    "axs_unroll = axs2.flatten()\n",
    "for i in range(num_trials_test):\n",
    "    axs_unroll[i].plot(x_array_test[i, :, 0],\n",
    "                       y_array_test[i, :, 0],\n",
    "                       c='goldenrod', label='test data')\n",
    "    axs_unroll[i].plot(x_array_test[i, length:time_steps, 0],\n",
    "                       y_rnn_test_pred[i * (time_steps - length):(i + 1) * (time_steps - length)],\n",
    "                       c='navy', label='test result')\n",
    "    axs_unroll[i].legend(loc='best')\n",
    "    axs_unroll[i].set_xlabel(\"time (sec)\")\n",
    "    axs_unroll[i].set_ylabel(\"ru\")\n",
    "    axs_unroll[i].set_title(f\"Experiment-{test_trial_index[i][0]}, Trial-{test_trial_index[i][1]}\")\n",
    "fig2.tight_layout()"
   ],
   "metadata": {
    "collapsed": false,
    "pycharm": {
     "name": "#%%\n"
    }
   }
  },
  {
   "cell_type": "code",
   "execution_count": null,
   "outputs": [],
   "source": [],
   "metadata": {
    "collapsed": false,
    "pycharm": {
     "name": "#%%\n"
    }
   }
  }
 ],
 "metadata": {
  "kernelspec": {
   "display_name": "Python 3",
   "language": "python",
   "name": "python3"
  },
  "language_info": {
   "codemirror_mode": {
    "name": "ipython",
    "version": 2
   },
   "file_extension": ".py",
   "mimetype": "text/x-python",
   "name": "python",
   "nbconvert_exporter": "python",
   "pygments_lexer": "ipython2",
   "version": "2.7.6"
  }
 },
 "nbformat": 4,
 "nbformat_minor": 0
}